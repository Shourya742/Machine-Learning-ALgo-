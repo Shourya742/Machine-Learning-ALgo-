{
  "nbformat": 4,
  "nbformat_minor": 0,
  "metadata": {
    "colab": {
      "provenance": []
    },
    "kernelspec": {
      "name": "python3",
      "display_name": "Python 3"
    },
    "language_info": {
      "name": "python"
    }
  },
  "cells": [
    {
      "cell_type": "markdown",
      "source": [
        "# Project: Deep Neural Network\n",
        "- Identify false banknotes"
      ],
      "metadata": {
        "id": "b84s9yS8mLU_"
      }
    },
    {
      "cell_type": "markdown",
      "source": [
        "### Step 1: Import libraries"
      ],
      "metadata": {
        "id": "A6sRScBMmdba"
      }
    },
    {
      "cell_type": "code",
      "execution_count": 2,
      "metadata": {
        "id": "Oeqt2jJqmGyP"
      },
      "outputs": [],
      "source": [
        "import pandas as pd\n",
        "from sklearn.model_selection import train_test_split\n",
        "from tensorflow.keras.layers import Dense\n",
        "from tensorflow.keras.models import Sequential"
      ]
    },
    {
      "cell_type": "markdown",
      "source": [
        "### Step 2: Read the data\n",
        "- Use Pandas [read_csv](https://pandas.pydata.org/pandas-docs/stable/reference/api/pandas.read_csv.html) method to read **files/banknotes.csv**"
      ],
      "metadata": {
        "id": "uIqJ1lGxoXkV"
      }
    },
    {
      "cell_type": "code",
      "source": [
        "data = pd.read_csv('https://raw.githubusercontent.com/LearnPythonWithRune/MachineLearningWithPython/main/jupyter/final/files/banknotes.csv')\n",
        "data.head()"
      ],
      "metadata": {
        "colab": {
          "base_uri": "https://localhost:8080/",
          "height": 206
        },
        "id": "-PI9J5c2oami",
        "outputId": "f9c8911c-a355-4ed7-8aa8-21ad28231624"
      },
      "execution_count": 3,
      "outputs": [
        {
          "output_type": "execute_result",
          "data": {
            "text/plain": [
              "   variance  skewness  curtosis  entropy  class\n",
              "0  -0.89569   3.00250 -3.606700 -3.44570      1\n",
              "1   3.47690  -0.15314  2.530000  2.44950      0\n",
              "2   3.91020   6.06500 -2.453400 -0.68234      0\n",
              "3   0.60731   3.95440 -4.772000 -4.48530      1\n",
              "4   2.37180   7.49080  0.015989 -1.74140      0"
            ],
            "text/html": [
              "\n",
              "  <div id=\"df-baa70ff3-18ae-46c8-b5f2-ff206e14cad5\">\n",
              "    <div class=\"colab-df-container\">\n",
              "      <div>\n",
              "<style scoped>\n",
              "    .dataframe tbody tr th:only-of-type {\n",
              "        vertical-align: middle;\n",
              "    }\n",
              "\n",
              "    .dataframe tbody tr th {\n",
              "        vertical-align: top;\n",
              "    }\n",
              "\n",
              "    .dataframe thead th {\n",
              "        text-align: right;\n",
              "    }\n",
              "</style>\n",
              "<table border=\"1\" class=\"dataframe\">\n",
              "  <thead>\n",
              "    <tr style=\"text-align: right;\">\n",
              "      <th></th>\n",
              "      <th>variance</th>\n",
              "      <th>skewness</th>\n",
              "      <th>curtosis</th>\n",
              "      <th>entropy</th>\n",
              "      <th>class</th>\n",
              "    </tr>\n",
              "  </thead>\n",
              "  <tbody>\n",
              "    <tr>\n",
              "      <th>0</th>\n",
              "      <td>-0.89569</td>\n",
              "      <td>3.00250</td>\n",
              "      <td>-3.606700</td>\n",
              "      <td>-3.44570</td>\n",
              "      <td>1</td>\n",
              "    </tr>\n",
              "    <tr>\n",
              "      <th>1</th>\n",
              "      <td>3.47690</td>\n",
              "      <td>-0.15314</td>\n",
              "      <td>2.530000</td>\n",
              "      <td>2.44950</td>\n",
              "      <td>0</td>\n",
              "    </tr>\n",
              "    <tr>\n",
              "      <th>2</th>\n",
              "      <td>3.91020</td>\n",
              "      <td>6.06500</td>\n",
              "      <td>-2.453400</td>\n",
              "      <td>-0.68234</td>\n",
              "      <td>0</td>\n",
              "    </tr>\n",
              "    <tr>\n",
              "      <th>3</th>\n",
              "      <td>0.60731</td>\n",
              "      <td>3.95440</td>\n",
              "      <td>-4.772000</td>\n",
              "      <td>-4.48530</td>\n",
              "      <td>1</td>\n",
              "    </tr>\n",
              "    <tr>\n",
              "      <th>4</th>\n",
              "      <td>2.37180</td>\n",
              "      <td>7.49080</td>\n",
              "      <td>0.015989</td>\n",
              "      <td>-1.74140</td>\n",
              "      <td>0</td>\n",
              "    </tr>\n",
              "  </tbody>\n",
              "</table>\n",
              "</div>\n",
              "      <button class=\"colab-df-convert\" onclick=\"convertToInteractive('df-baa70ff3-18ae-46c8-b5f2-ff206e14cad5')\"\n",
              "              title=\"Convert this dataframe to an interactive table.\"\n",
              "              style=\"display:none;\">\n",
              "        \n",
              "  <svg xmlns=\"http://www.w3.org/2000/svg\" height=\"24px\"viewBox=\"0 0 24 24\"\n",
              "       width=\"24px\">\n",
              "    <path d=\"M0 0h24v24H0V0z\" fill=\"none\"/>\n",
              "    <path d=\"M18.56 5.44l.94 2.06.94-2.06 2.06-.94-2.06-.94-.94-2.06-.94 2.06-2.06.94zm-11 1L8.5 8.5l.94-2.06 2.06-.94-2.06-.94L8.5 2.5l-.94 2.06-2.06.94zm10 10l.94 2.06.94-2.06 2.06-.94-2.06-.94-.94-2.06-.94 2.06-2.06.94z\"/><path d=\"M17.41 7.96l-1.37-1.37c-.4-.4-.92-.59-1.43-.59-.52 0-1.04.2-1.43.59L10.3 9.45l-7.72 7.72c-.78.78-.78 2.05 0 2.83L4 21.41c.39.39.9.59 1.41.59.51 0 1.02-.2 1.41-.59l7.78-7.78 2.81-2.81c.8-.78.8-2.07 0-2.86zM5.41 20L4 18.59l7.72-7.72 1.47 1.35L5.41 20z\"/>\n",
              "  </svg>\n",
              "      </button>\n",
              "      \n",
              "  <style>\n",
              "    .colab-df-container {\n",
              "      display:flex;\n",
              "      flex-wrap:wrap;\n",
              "      gap: 12px;\n",
              "    }\n",
              "\n",
              "    .colab-df-convert {\n",
              "      background-color: #E8F0FE;\n",
              "      border: none;\n",
              "      border-radius: 50%;\n",
              "      cursor: pointer;\n",
              "      display: none;\n",
              "      fill: #1967D2;\n",
              "      height: 32px;\n",
              "      padding: 0 0 0 0;\n",
              "      width: 32px;\n",
              "    }\n",
              "\n",
              "    .colab-df-convert:hover {\n",
              "      background-color: #E2EBFA;\n",
              "      box-shadow: 0px 1px 2px rgba(60, 64, 67, 0.3), 0px 1px 3px 1px rgba(60, 64, 67, 0.15);\n",
              "      fill: #174EA6;\n",
              "    }\n",
              "\n",
              "    [theme=dark] .colab-df-convert {\n",
              "      background-color: #3B4455;\n",
              "      fill: #D2E3FC;\n",
              "    }\n",
              "\n",
              "    [theme=dark] .colab-df-convert:hover {\n",
              "      background-color: #434B5C;\n",
              "      box-shadow: 0px 1px 3px 1px rgba(0, 0, 0, 0.15);\n",
              "      filter: drop-shadow(0px 1px 2px rgba(0, 0, 0, 0.3));\n",
              "      fill: #FFFFFF;\n",
              "    }\n",
              "  </style>\n",
              "\n",
              "      <script>\n",
              "        const buttonEl =\n",
              "          document.querySelector('#df-baa70ff3-18ae-46c8-b5f2-ff206e14cad5 button.colab-df-convert');\n",
              "        buttonEl.style.display =\n",
              "          google.colab.kernel.accessAllowed ? 'block' : 'none';\n",
              "\n",
              "        async function convertToInteractive(key) {\n",
              "          const element = document.querySelector('#df-baa70ff3-18ae-46c8-b5f2-ff206e14cad5');\n",
              "          const dataTable =\n",
              "            await google.colab.kernel.invokeFunction('convertToInteractive',\n",
              "                                                     [key], {});\n",
              "          if (!dataTable) return;\n",
              "\n",
              "          const docLinkHtml = 'Like what you see? Visit the ' +\n",
              "            '<a target=\"_blank\" href=https://colab.research.google.com/notebooks/data_table.ipynb>data table notebook</a>'\n",
              "            + ' to learn more about interactive tables.';\n",
              "          element.innerHTML = '';\n",
              "          dataTable['output_type'] = 'display_data';\n",
              "          await google.colab.output.renderOutput(dataTable, element);\n",
              "          const docLink = document.createElement('div');\n",
              "          docLink.innerHTML = docLinkHtml;\n",
              "          element.appendChild(docLink);\n",
              "        }\n",
              "      </script>\n",
              "    </div>\n",
              "  </div>\n",
              "  "
            ]
          },
          "metadata": {},
          "execution_count": 3
        }
      ]
    },
    {
      "cell_type": "markdown",
      "source": [
        "### Step 3: Investitigate the data\n",
        "- Check how many classes (class)\n",
        "    - HINT: use [unique()](https://pandas.pydata.org/docs/reference/api/pandas.unique.html)\n",
        "- Check for missing data\n",
        "    - HINT: use [isna()](https://pandas.pydata.org/docs/reference/api/pandas.DataFrame.isna.html)[.sum()](https://pandas.pydata.org/docs/reference/api/pandas.DataFrame.sum.html)"
      ],
      "metadata": {
        "id": "e84w19yKolws"
      }
    },
    {
      "cell_type": "code",
      "source": [
        "data['class'].unique()"
      ],
      "metadata": {
        "colab": {
          "base_uri": "https://localhost:8080/"
        },
        "id": "nOJBXbrDoprz",
        "outputId": "8392229c-a3f0-49c8-d305-2827e58194b1"
      },
      "execution_count": 4,
      "outputs": [
        {
          "output_type": "execute_result",
          "data": {
            "text/plain": [
              "array([1, 0])"
            ]
          },
          "metadata": {},
          "execution_count": 4
        }
      ]
    },
    {
      "cell_type": "code",
      "source": [
        "data.isna().sum()"
      ],
      "metadata": {
        "colab": {
          "base_uri": "https://localhost:8080/"
        },
        "id": "If4MxQVuowa1",
        "outputId": "a2b992ab-7606-4f7e-f93f-ad167d73892b"
      },
      "execution_count": 5,
      "outputs": [
        {
          "output_type": "execute_result",
          "data": {
            "text/plain": [
              "variance    0\n",
              "skewness    0\n",
              "curtosis    0\n",
              "entropy     0\n",
              "class       0\n",
              "dtype: int64"
            ]
          },
          "metadata": {},
          "execution_count": 5
        }
      ]
    },
    {
      "cell_type": "markdown",
      "source": [
        "### Step 4: Divite data into feature vectors and labels\n",
        "- Assign the feature vectors to $X$\n",
        "    - HINT: that is all but the last column of the data\n",
        "- Assign the labels to $y$\n",
        "    - HINT: that is the last column (**class**)"
      ],
      "metadata": {
        "id": "K4GkKm_go5G5"
      }
    },
    {
      "cell_type": "code",
      "source": [
        "X = data.iloc[:,:-1]\n",
        "y = data.iloc[:,-1]\n",
        "X.head()"
      ],
      "metadata": {
        "colab": {
          "base_uri": "https://localhost:8080/",
          "height": 206
        },
        "id": "VAPuRLVOo8h2",
        "outputId": "4fd9ef22-aea7-4437-ae7a-4ea4b73e1fed"
      },
      "execution_count": 7,
      "outputs": [
        {
          "output_type": "execute_result",
          "data": {
            "text/plain": [
              "   variance  skewness  curtosis  entropy\n",
              "0  -0.89569   3.00250 -3.606700 -3.44570\n",
              "1   3.47690  -0.15314  2.530000  2.44950\n",
              "2   3.91020   6.06500 -2.453400 -0.68234\n",
              "3   0.60731   3.95440 -4.772000 -4.48530\n",
              "4   2.37180   7.49080  0.015989 -1.74140"
            ],
            "text/html": [
              "\n",
              "  <div id=\"df-94ecf80c-05c1-42f3-b80b-228e3cc3c3b8\">\n",
              "    <div class=\"colab-df-container\">\n",
              "      <div>\n",
              "<style scoped>\n",
              "    .dataframe tbody tr th:only-of-type {\n",
              "        vertical-align: middle;\n",
              "    }\n",
              "\n",
              "    .dataframe tbody tr th {\n",
              "        vertical-align: top;\n",
              "    }\n",
              "\n",
              "    .dataframe thead th {\n",
              "        text-align: right;\n",
              "    }\n",
              "</style>\n",
              "<table border=\"1\" class=\"dataframe\">\n",
              "  <thead>\n",
              "    <tr style=\"text-align: right;\">\n",
              "      <th></th>\n",
              "      <th>variance</th>\n",
              "      <th>skewness</th>\n",
              "      <th>curtosis</th>\n",
              "      <th>entropy</th>\n",
              "    </tr>\n",
              "  </thead>\n",
              "  <tbody>\n",
              "    <tr>\n",
              "      <th>0</th>\n",
              "      <td>-0.89569</td>\n",
              "      <td>3.00250</td>\n",
              "      <td>-3.606700</td>\n",
              "      <td>-3.44570</td>\n",
              "    </tr>\n",
              "    <tr>\n",
              "      <th>1</th>\n",
              "      <td>3.47690</td>\n",
              "      <td>-0.15314</td>\n",
              "      <td>2.530000</td>\n",
              "      <td>2.44950</td>\n",
              "    </tr>\n",
              "    <tr>\n",
              "      <th>2</th>\n",
              "      <td>3.91020</td>\n",
              "      <td>6.06500</td>\n",
              "      <td>-2.453400</td>\n",
              "      <td>-0.68234</td>\n",
              "    </tr>\n",
              "    <tr>\n",
              "      <th>3</th>\n",
              "      <td>0.60731</td>\n",
              "      <td>3.95440</td>\n",
              "      <td>-4.772000</td>\n",
              "      <td>-4.48530</td>\n",
              "    </tr>\n",
              "    <tr>\n",
              "      <th>4</th>\n",
              "      <td>2.37180</td>\n",
              "      <td>7.49080</td>\n",
              "      <td>0.015989</td>\n",
              "      <td>-1.74140</td>\n",
              "    </tr>\n",
              "  </tbody>\n",
              "</table>\n",
              "</div>\n",
              "      <button class=\"colab-df-convert\" onclick=\"convertToInteractive('df-94ecf80c-05c1-42f3-b80b-228e3cc3c3b8')\"\n",
              "              title=\"Convert this dataframe to an interactive table.\"\n",
              "              style=\"display:none;\">\n",
              "        \n",
              "  <svg xmlns=\"http://www.w3.org/2000/svg\" height=\"24px\"viewBox=\"0 0 24 24\"\n",
              "       width=\"24px\">\n",
              "    <path d=\"M0 0h24v24H0V0z\" fill=\"none\"/>\n",
              "    <path d=\"M18.56 5.44l.94 2.06.94-2.06 2.06-.94-2.06-.94-.94-2.06-.94 2.06-2.06.94zm-11 1L8.5 8.5l.94-2.06 2.06-.94-2.06-.94L8.5 2.5l-.94 2.06-2.06.94zm10 10l.94 2.06.94-2.06 2.06-.94-2.06-.94-.94-2.06-.94 2.06-2.06.94z\"/><path d=\"M17.41 7.96l-1.37-1.37c-.4-.4-.92-.59-1.43-.59-.52 0-1.04.2-1.43.59L10.3 9.45l-7.72 7.72c-.78.78-.78 2.05 0 2.83L4 21.41c.39.39.9.59 1.41.59.51 0 1.02-.2 1.41-.59l7.78-7.78 2.81-2.81c.8-.78.8-2.07 0-2.86zM5.41 20L4 18.59l7.72-7.72 1.47 1.35L5.41 20z\"/>\n",
              "  </svg>\n",
              "      </button>\n",
              "      \n",
              "  <style>\n",
              "    .colab-df-container {\n",
              "      display:flex;\n",
              "      flex-wrap:wrap;\n",
              "      gap: 12px;\n",
              "    }\n",
              "\n",
              "    .colab-df-convert {\n",
              "      background-color: #E8F0FE;\n",
              "      border: none;\n",
              "      border-radius: 50%;\n",
              "      cursor: pointer;\n",
              "      display: none;\n",
              "      fill: #1967D2;\n",
              "      height: 32px;\n",
              "      padding: 0 0 0 0;\n",
              "      width: 32px;\n",
              "    }\n",
              "\n",
              "    .colab-df-convert:hover {\n",
              "      background-color: #E2EBFA;\n",
              "      box-shadow: 0px 1px 2px rgba(60, 64, 67, 0.3), 0px 1px 3px 1px rgba(60, 64, 67, 0.15);\n",
              "      fill: #174EA6;\n",
              "    }\n",
              "\n",
              "    [theme=dark] .colab-df-convert {\n",
              "      background-color: #3B4455;\n",
              "      fill: #D2E3FC;\n",
              "    }\n",
              "\n",
              "    [theme=dark] .colab-df-convert:hover {\n",
              "      background-color: #434B5C;\n",
              "      box-shadow: 0px 1px 3px 1px rgba(0, 0, 0, 0.15);\n",
              "      filter: drop-shadow(0px 1px 2px rgba(0, 0, 0, 0.3));\n",
              "      fill: #FFFFFF;\n",
              "    }\n",
              "  </style>\n",
              "\n",
              "      <script>\n",
              "        const buttonEl =\n",
              "          document.querySelector('#df-94ecf80c-05c1-42f3-b80b-228e3cc3c3b8 button.colab-df-convert');\n",
              "        buttonEl.style.display =\n",
              "          google.colab.kernel.accessAllowed ? 'block' : 'none';\n",
              "\n",
              "        async function convertToInteractive(key) {\n",
              "          const element = document.querySelector('#df-94ecf80c-05c1-42f3-b80b-228e3cc3c3b8');\n",
              "          const dataTable =\n",
              "            await google.colab.kernel.invokeFunction('convertToInteractive',\n",
              "                                                     [key], {});\n",
              "          if (!dataTable) return;\n",
              "\n",
              "          const docLinkHtml = 'Like what you see? Visit the ' +\n",
              "            '<a target=\"_blank\" href=https://colab.research.google.com/notebooks/data_table.ipynb>data table notebook</a>'\n",
              "            + ' to learn more about interactive tables.';\n",
              "          element.innerHTML = '';\n",
              "          dataTable['output_type'] = 'display_data';\n",
              "          await google.colab.output.renderOutput(dataTable, element);\n",
              "          const docLink = document.createElement('div');\n",
              "          docLink.innerHTML = docLinkHtml;\n",
              "          element.appendChild(docLink);\n",
              "        }\n",
              "      </script>\n",
              "    </div>\n",
              "  </div>\n",
              "  "
            ]
          },
          "metadata": {},
          "execution_count": 7
        }
      ]
    },
    {
      "cell_type": "code",
      "source": [
        "y.head()"
      ],
      "metadata": {
        "colab": {
          "base_uri": "https://localhost:8080/"
        },
        "id": "7vdp7yWapLsi",
        "outputId": "189a26d3-5394-4df2-efc6-7b24792f84cb"
      },
      "execution_count": 8,
      "outputs": [
        {
          "output_type": "execute_result",
          "data": {
            "text/plain": [
              "0    1\n",
              "1    0\n",
              "2    0\n",
              "3    1\n",
              "4    0\n",
              "Name: class, dtype: int64"
            ]
          },
          "metadata": {},
          "execution_count": 8
        }
      ]
    },
    {
      "cell_type": "markdown",
      "source": [
        "### Step 5: Create training and test datasets\n",
        "- Split $X$ and $y$ into train and test sets using **train_test_split** with **test_size=.4**"
      ],
      "metadata": {
        "id": "wiRceYCFpS8s"
      }
    },
    {
      "cell_type": "code",
      "source": [
        "X_train,X_test,y_train,y_test = train_test_split(X,y,test_size=0.3,random_state=42)"
      ],
      "metadata": {
        "id": "7s3QQRd5pVkB"
      },
      "execution_count": 9,
      "outputs": []
    },
    {
      "cell_type": "markdown",
      "source": [
        "### Step 6: Create and compile the model\n",
        "- Create a **Sequential** model\n",
        "    - **Dense** with 8 nodes with **input_dim=4, activaition='relu'**\n",
        "    - **Dense** with 1 (the output node) with **activaition='sigmoid'**\n",
        "- Complie the model with **optimizer='adam', loss='binary_crossentropy', metrics=['accuracy']**"
      ],
      "metadata": {
        "id": "dgZuYWtgplHv"
      }
    },
    {
      "cell_type": "code",
      "source": [
        "model = Sequential()\n",
        "model.add(Dense(8,input_dim=4,activation='relu'))\n",
        "model.add(Dense(1,activation='sigmoid'))\n",
        "model.compile(optimizer='adam',loss='binary_crossentropy',metrics=['accuracy'])"
      ],
      "metadata": {
        "id": "rZZxX6c7pnRp"
      },
      "execution_count": 11,
      "outputs": []
    },
    {
      "cell_type": "markdown",
      "source": [
        "### Step 7: Fit and test the accuracy\n",
        "- Fit the model on training data with **epochs=20**\n",
        "- Evaluate the model with test data with **verbose=2**"
      ],
      "metadata": {
        "id": "JyvURgVWqNGi"
      }
    },
    {
      "cell_type": "code",
      "source": [
        "model.fit(X_train,y_train,epochs=20)\n",
        "model.evaluate(X_test,y_test,verbose=2)"
      ],
      "metadata": {
        "colab": {
          "base_uri": "https://localhost:8080/"
        },
        "id": "Hp2xDTVHqQFV",
        "outputId": "53d7716a-4d89-4070-d88e-4d4507d05256"
      },
      "execution_count": 13,
      "outputs": [
        {
          "output_type": "stream",
          "name": "stdout",
          "text": [
            "Epoch 1/20\n",
            "30/30 [==============================] - 0s 1ms/step - loss: 0.0907 - accuracy: 0.9948\n",
            "Epoch 2/20\n",
            "30/30 [==============================] - 0s 2ms/step - loss: 0.0831 - accuracy: 0.9958\n",
            "Epoch 3/20\n",
            "30/30 [==============================] - 0s 2ms/step - loss: 0.0759 - accuracy: 0.9958\n",
            "Epoch 4/20\n",
            "30/30 [==============================] - 0s 2ms/step - loss: 0.0698 - accuracy: 0.9948\n",
            "Epoch 5/20\n",
            "30/30 [==============================] - 0s 2ms/step - loss: 0.0642 - accuracy: 0.9937\n",
            "Epoch 6/20\n",
            "30/30 [==============================] - 0s 2ms/step - loss: 0.0595 - accuracy: 0.9948\n",
            "Epoch 7/20\n",
            "30/30 [==============================] - 0s 2ms/step - loss: 0.0551 - accuracy: 0.9958\n",
            "Epoch 8/20\n",
            "30/30 [==============================] - 0s 2ms/step - loss: 0.0513 - accuracy: 0.9948\n",
            "Epoch 9/20\n",
            "30/30 [==============================] - 0s 2ms/step - loss: 0.0476 - accuracy: 0.9958\n",
            "Epoch 10/20\n",
            "30/30 [==============================] - 0s 2ms/step - loss: 0.0442 - accuracy: 0.9958\n",
            "Epoch 11/20\n",
            "30/30 [==============================] - 0s 2ms/step - loss: 0.0410 - accuracy: 0.9958\n",
            "Epoch 12/20\n",
            "30/30 [==============================] - 0s 2ms/step - loss: 0.0382 - accuracy: 0.9958\n",
            "Epoch 13/20\n",
            "30/30 [==============================] - 0s 2ms/step - loss: 0.0358 - accuracy: 0.9958\n",
            "Epoch 14/20\n",
            "30/30 [==============================] - 0s 2ms/step - loss: 0.0336 - accuracy: 0.9958\n",
            "Epoch 15/20\n",
            "30/30 [==============================] - 0s 2ms/step - loss: 0.0315 - accuracy: 0.9979\n",
            "Epoch 16/20\n",
            "30/30 [==============================] - 0s 2ms/step - loss: 0.0297 - accuracy: 0.9990\n",
            "Epoch 17/20\n",
            "30/30 [==============================] - 0s 2ms/step - loss: 0.0281 - accuracy: 0.9990\n",
            "Epoch 18/20\n",
            "30/30 [==============================] - 0s 2ms/step - loss: 0.0266 - accuracy: 0.9990\n",
            "Epoch 19/20\n",
            "30/30 [==============================] - 0s 1ms/step - loss: 0.0252 - accuracy: 0.9990\n",
            "Epoch 20/20\n",
            "30/30 [==============================] - 0s 2ms/step - loss: 0.0239 - accuracy: 0.9990\n",
            "13/13 - 0s - loss: 0.0233 - accuracy: 1.0000 - 163ms/epoch - 13ms/step\n"
          ]
        },
        {
          "output_type": "execute_result",
          "data": {
            "text/plain": [
              "[0.023334043100476265, 1.0]"
            ]
          },
          "metadata": {},
          "execution_count": 13
        }
      ]
    },
    {
      "cell_type": "markdown",
      "source": [
        "### Step 8 (Optional): Add another hidden layer\n",
        "- Add another hidden layer in the model\n",
        "- Test performance"
      ],
      "metadata": {
        "id": "x9jCgmrhqlYh"
      }
    },
    {
      "cell_type": "code",
      "source": [
        "model = Sequential()\n",
        "model.add(Dense(8,input_dim=4,activation='relu'))\n",
        "model.add(Dense(4,activation='relu'))\n",
        "model.add(Dense(1,activation='sigmoid'))\n",
        "model.compile(optimizer='adam',loss='binary_crossentropy',metrics=['accuracy'])"
      ],
      "metadata": {
        "id": "3jNsxNDqqoGr"
      },
      "execution_count": 14,
      "outputs": []
    },
    {
      "cell_type": "code",
      "source": [
        "model.fit(X_train,y_train,epochs=20)\n",
        "model.evaluate(X_test,y_test,verbose=2)"
      ],
      "metadata": {
        "colab": {
          "base_uri": "https://localhost:8080/"
        },
        "id": "vNfTokBArG47",
        "outputId": "d9743055-d09b-4613-bd7c-c352586753ea"
      },
      "execution_count": 15,
      "outputs": [
        {
          "output_type": "stream",
          "name": "stdout",
          "text": [
            "Epoch 1/20\n",
            "30/30 [==============================] - 1s 2ms/step - loss: 0.8855 - accuracy: 0.2948\n",
            "Epoch 2/20\n",
            "30/30 [==============================] - 0s 2ms/step - loss: 0.7709 - accuracy: 0.3375\n",
            "Epoch 3/20\n",
            "30/30 [==============================] - 0s 2ms/step - loss: 0.6929 - accuracy: 0.4344\n",
            "Epoch 4/20\n",
            "30/30 [==============================] - 0s 2ms/step - loss: 0.6423 - accuracy: 0.5010\n",
            "Epoch 5/20\n",
            "30/30 [==============================] - 0s 2ms/step - loss: 0.6053 - accuracy: 0.6344\n",
            "Epoch 6/20\n",
            "30/30 [==============================] - 0s 2ms/step - loss: 0.5741 - accuracy: 0.7854\n",
            "Epoch 7/20\n",
            "30/30 [==============================] - 0s 2ms/step - loss: 0.5470 - accuracy: 0.8479\n",
            "Epoch 8/20\n",
            "30/30 [==============================] - 0s 2ms/step - loss: 0.5207 - accuracy: 0.8771\n",
            "Epoch 9/20\n",
            "30/30 [==============================] - 0s 2ms/step - loss: 0.4952 - accuracy: 0.9187\n",
            "Epoch 10/20\n",
            "30/30 [==============================] - 0s 3ms/step - loss: 0.4699 - accuracy: 0.9323\n",
            "Epoch 11/20\n",
            "30/30 [==============================] - 0s 2ms/step - loss: 0.4423 - accuracy: 0.9448\n",
            "Epoch 12/20\n",
            "30/30 [==============================] - 0s 2ms/step - loss: 0.4131 - accuracy: 0.9573\n",
            "Epoch 13/20\n",
            "30/30 [==============================] - 0s 2ms/step - loss: 0.3851 - accuracy: 0.9615\n",
            "Epoch 14/20\n",
            "30/30 [==============================] - 0s 2ms/step - loss: 0.3656 - accuracy: 0.9646\n",
            "Epoch 15/20\n",
            "30/30 [==============================] - 0s 2ms/step - loss: 0.3488 - accuracy: 0.9719\n",
            "Epoch 16/20\n",
            "30/30 [==============================] - 0s 2ms/step - loss: 0.3341 - accuracy: 0.9760\n",
            "Epoch 17/20\n",
            "30/30 [==============================] - 0s 2ms/step - loss: 0.3207 - accuracy: 0.9771\n",
            "Epoch 18/20\n",
            "30/30 [==============================] - 0s 2ms/step - loss: 0.3088 - accuracy: 0.9865\n",
            "Epoch 19/20\n",
            "30/30 [==============================] - 0s 2ms/step - loss: 0.2976 - accuracy: 0.9885\n",
            "Epoch 20/20\n",
            "30/30 [==============================] - 0s 2ms/step - loss: 0.2872 - accuracy: 0.9906\n",
            "13/13 - 0s - loss: 0.2776 - accuracy: 0.9927 - 137ms/epoch - 11ms/step\n"
          ]
        },
        {
          "output_type": "execute_result",
          "data": {
            "text/plain": [
              "[0.27763232588768005, 0.9927184581756592]"
            ]
          },
          "metadata": {},
          "execution_count": 15
        }
      ]
    }
  ]
}